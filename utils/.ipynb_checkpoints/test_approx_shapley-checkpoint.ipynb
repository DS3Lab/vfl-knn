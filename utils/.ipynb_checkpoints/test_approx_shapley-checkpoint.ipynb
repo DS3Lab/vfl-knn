{
 "cells": [
  {
   "cell_type": "code",
   "execution_count": 3,
   "id": "88341288",
   "metadata": {},
   "outputs": [
    {
     "data": {
      "image/png": "[encoded data removed]",
      "text/plain": [
       "<Figure size 432x288 with 1 Axes>"
      ]
     },
     "metadata": {
      "needs_background": "light"
     },
     "output_type": "display_data"
    }
   ],
   "source": [
    "import scipy.stats\n",
    "from scipy.stats import norm\n",
    "\n",
    "import matplotlib.pyplot as plt\n",
    "fig, ax = plt.subplots(1, 1)"
   ]
  },
  {
   "cell_type": "code",
   "execution_count": 11,
   "id": "c944e51f",
   "metadata": {},
   "outputs": [
    {
     "name": "stdout",
     "output_type": "stream",
     "text": [
      "0.3989422804014327\n",
      "0.5\n",
      "0.0\n",
      "0.049999999999999975\n",
      "1.6448536269514729\n",
      "0.004999999999999998\n",
      "2.575829303548901\n",
      "1.9599639845400545\n"
     ]
    }
   ],
   "source": [
    "print(scipy.stats.norm(0, 1).pdf(0))\n",
    "\n",
    "print(scipy.stats.norm(0, 1).cdf(0))\n",
    "print(scipy.stats.norm(0, 1).ppf(0.5))\n",
    "\n",
    "print(scipy.stats.norm(0, 1).sf(1.6448536269514729))\n",
    "print(scipy.stats.norm(0, 1).isf(0.05))\n",
    "\n",
    "print(scipy.stats.norm(0, 1).sf(2.575829303548901))\n",
    "print(scipy.stats.norm(0, 1).isf(0.005))\n",
    "\n",
    "print(scipy.stats.norm(0, 1).isf(0.025))"
   ]
  },
  {
   "cell_type": "code",
   "execution_count": 51,
   "id": "96cba386",
   "metadata": {},
   "outputs": [
    {
     "name": "stdout",
     "output_type": "stream",
     "text": [
      "9506\n"
     ]
    }
   ],
   "source": [
    "# simulate fagin for approx shapley value\n",
    "\n",
    "# data\n",
    "N = 10000\n",
    "# sampling round of approx shapley value\n",
    "# P(\\delta shapley <= e) > 1 - alpha\n",
    "# P(Z >= Z(alpha/2)) >= alpha/2, Z~N(0,1)\n",
    "# M >= Z(alpha/2)^2 sigma^2 / e^2\n",
    "# alpha=0.05, e = 0.01, sigma^2 = 1/4\n",
    "M = int(1.95**2 * 1/4 / 0.01**2)\n",
    "print(M)"
   ]
  },
  {
   "cell_type": "code",
   "execution_count": 54,
   "id": "22e8909a",
   "metadata": {},
   "outputs": [
    {
     "name": "stdout",
     "output_type": "stream",
     "text": [
      "target item 2107\n",
      "top-k item [5257 5288 1581]\n",
      "fagin_ind item [5257 5288 1581 4065 5128 8816 3566 2269 1456  708 6756 8003 6513 4825\n",
      " 1684 1081  782 6374 4182 9809 8667 2009 4214 2993 1761 7150 7670 5636\n",
      " 5067 4552 5559 8620  477  637  946 9460 5491  632 4073 6892 1504 3364\n",
      " 9275 6239 4147 8860 3830 9718 3573  829 9612 6475 3238 1471 9537 6220\n",
      " 6132 3546 7133 7036 3018 2109 7527 6033 2956 4217 5021 3445 2654 9999\n",
      " 2123 3537  835 5494 2572 7193 3577 9366 9224 8684  322 9717 7255 2610\n",
      " 8635 2258 9580 9383 1312 1404 7925  408   18 5672 9415 6044 7245  214\n",
      " 1681 9145]\n",
      "total comm round = 97, comm items = 10000\n",
      "original comm round = 200, comm items = 10000\n"
     ]
    }
   ],
   "source": [
    "import random\n",
    "import numpy as np\n",
    "\n",
    "n_fagin = 2000\n",
    "k = 3\n",
    "\n",
    "data_items = np.arange(N).tolist()\n",
    "np.random.seed(10)\n",
    "np.random.shuffle(data_ind)\n",
    "top_k_items = data_ind[:k]\n",
    "fagin_items = data_ind[:n_fagin]\n",
    "\n",
    "cache_items = fagin_items\n",
    "\n",
    "target_item = random.choice(data_ind)\n",
    "\n",
    "print(\"target item\", target_item)\n",
    "print(\"top-k item\", top_k_items)\n",
    "print(\"fagin_ind item\", fagin_items[:100])\n",
    "\n",
    "M = 10\n",
    "n_comm = 0\n",
    "n_comm_item = fagin_items.shape[0]\n",
    "\n",
    "for sample_round in range(M):\n",
    "    # shuffle data\n",
    "    np.random.shuffle(data_items)\n",
    "    target_ind = np.where(data_items == target_item)[0][0]\n",
    "    pre_items = data_items[:target_ind]\n",
    "    \n",
    "    intersect_top_k_items = np.intersect1d(pre_items, top_k_items)\n",
    "    n_intersect_top_k = intersect_top_k_items.shape[0]\n",
    "    #print(\"index of target item = {}, {} items in top k\".format(target_ind, n_intersect_top_k))\n",
    "    \n",
    "\n",
    "    if n_intersect_top_k == 0 and target_item not in top_k_items:\n",
    "        # send pre and target (not in cache ) to server\n",
    "        #intersect_cache_items = np.intersect1d(pre_items, cache_items)\n",
    "        no_cache_items = np.setdiff1d(pre_items, cache_items)\n",
    "        if target_item not in cache_items:\n",
    "            no_cache_items = np.append(no_cache_items, target_item)\n",
    "        n_comm += 1\n",
    "        n_comm_item += no_cache_items.shape[0]\n",
    "        cache_items = np.append(cache_items, no_cache_items)\n",
    "        #print(\"send {} items to server, {} cache items\".format(no_cache_items.shape[0], cache_items.shape[0]))\n",
    "    elif n_intersect_top_k == k:\n",
    "        # do nothing\n",
    "        n_comm += 0\n",
    "    #elif n_intersect_top_k == k - 1 and target_item in top_k_items:\n",
    "        # do nothing\n",
    "    #    n_comm += 0\n",
    "    elif n_intersect_top_k > k / 2:\n",
    "        # do nothing\n",
    "        n_comm += 0\n",
    "    elif n_intersect_top_k < k:\n",
    "        # send pre and target (not in cache ) to server\n",
    "        #intersect_cache_items = np.intersect1d(pre_items, cache_items)\n",
    "        no_cache_items = np.setdiff1d(pre_items, cache_items)\n",
    "        if target_item not in cache_items:\n",
    "            no_cache_items = np.append(no_cache_items, target_item)\n",
    "        n_comm += 1\n",
    "        n_comm_item += no_cache_items.shape[0]\n",
    "        cache_items = np.append(cache_items, no_cache_items)\n",
    "        #print(\">>> round {}, send {} items to server, {} cache items\"\n",
    "        #      .format(sample_round, no_cache_items.shape[0], cache_items.shape[0]))\n",
    "    \n",
    "\n",
    "print(\"total comm round = {}, comm items = {}\".format(n_comm, n_comm_item))\n",
    "print(\"original comm round = {}, comm items = {}\".format(M, N))\n"
   ]
  },
  {
   "cell_type": "code",
   "execution_count": null,
   "id": "3a9e9921",
   "metadata": {},
   "outputs": [],
   "source": []
  }
 ],
 "metadata": {
  "kernelspec": {
   "display_name": "Python 3",
   "language": "python",
   "name": "python3"
  },
  "language_info": {
   "codemirror_mode": {
    "name": "ipython",
    "version": 3
   },
   "file_extension": ".py",
   "mimetype": "text/x-python",
   "name": "python",
   "nbconvert_exporter": "python",
   "pygments_lexer": "ipython3",
   "version": "3.9.2"
  }
 },
 "nbformat": 4,
 "nbformat_minor": 5
}

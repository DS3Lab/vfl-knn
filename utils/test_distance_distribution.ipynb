{
 "cells": [
  {
   "cell_type": "code",
   "execution_count": 5,
   "id": "bcf7f4aa",
   "metadata": {},
   "outputs": [],
   "source": [
    "import time\n",
    "import sys\n",
    "sys.path.append(\"../\")"
   ]
  },
  {
   "cell_type": "code",
   "execution_count": 4,
   "id": "f2bebc86",
   "metadata": {},
   "outputs": [],
   "source": [
    "from data_loader.data_partition import load_dummy_partition_with_label"
   ]
  },
  {
   "cell_type": "code",
   "execution_count": 29,
   "id": "2dcb3a1a",
   "metadata": {},
   "outputs": [],
   "source": [
    "#file_name = \"/Users/jiawei/Downloads/0_5\"\n",
    "#data, targets = load_dummy_partition_with_label(file_name)\n",
    "\n",
    "import pandas as pd\n",
    "\n",
    "file_name = \"/Users/jiawei/Downloads/VFL-KNN/letter/letter-all.csv\"\n",
    "data = pd.read_csv(file_name)\n",
    "\n",
    "data = data.to_numpy()[:,:-1]"
   ]
  },
  {
   "cell_type": "code",
   "execution_count": 30,
   "id": "c38f153b",
   "metadata": {},
   "outputs": [
    {
     "data": {
      "text/plain": [
       "Text(0, 0.5, 'Count')"
      ]
     },
     "execution_count": 30,
     "metadata": {},
     "output_type": "execute_result"
    },
    {
     "data": {
      "image/png": "[encoded data removed]",
      "text/plain": [
       "<Figure size 432x288 with 1 Axes>"
      ]
     },
     "metadata": {
      "needs_background": "light"
     },
     "output_type": "display_data"
    }
   ],
   "source": [
    "import numpy as np\n",
    "\n",
    "from utils.distance import square_euclidean_np\n",
    "\n",
    "test_data = data[0]\n",
    "dist = np.sqrt(square_euclidean_np(data, test_data)).tolist()\n",
    "\n",
    "import matplotlib.pyplot as plt\n",
    "\n",
    "# matplotlib histogram\n",
    "plt.hist(dist, color = 'blue', edgecolor = 'black', bins = 100)\n",
    "\n",
    "# Add labels\n",
    "plt.title('Histogram of Distances')\n",
    "plt.xlabel('Distance')\n",
    "plt.ylabel('Count')"
   ]
  },
  {
   "cell_type": "code",
   "execution_count": null,
   "id": "379ae14d",
   "metadata": {},
   "outputs": [],
   "source": []
  }
 ],
 "metadata": {
  "kernelspec": {
   "display_name": "Python 3",
   "language": "python",
   "name": "python3"
  },
  "language_info": {
   "codemirror_mode": {
    "name": "ipython",
    "version": 3
   },
   "file_extension": ".py",
   "mimetype": "text/x-python",
   "name": "python",
   "nbconvert_exporter": "python",
   "pygments_lexer": "ipython3",
   "version": "3.9.2"
  }
 },
 "nbformat": 4,
 "nbformat_minor": 5
}
